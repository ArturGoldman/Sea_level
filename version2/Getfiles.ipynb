{
 "cells": [
  {
   "cell_type": "code",
   "execution_count": null,
   "metadata": {},
   "outputs": [],
   "source": [
    "import requests\n",
    "import os\n",
    "from calendar import monthrange\n",
    "from multiprocessing import Pool\n",
    "\n",
    "\n",
    "downld_sea = \"Storm and sea level/data/sea/\"\n",
    "downld_wind = \"Storm and sea level/data/wind/\"\n",
    "#дата хранится в виде массива формата [y, m, d], start < end\n",
    "start = [2011, 4, 1]\n",
    "end = [2019, 1, 1]\n",
    "\n",
    "# переменная для регулирования количества параллельных процессов\n",
    "q_amnt = 12"
   ]
  },
  {
   "cell_type": "code",
   "execution_count": null,
   "metadata": {},
   "outputs": [],
   "source": [
    "# вспомогающая функция для увеличения даты на заданное количество дней \n",
    "def add_days(date, days):\n",
    "    dsamnt = monthrange(date[0], date[1])\n",
    "    date[2] += days\n",
    "    if date[2] > dsamnt[1]:\n",
    "        date[2] -= dsamnt[1]\n",
    "        date[1] += 1\n",
    "    if date[1] == 13:\n",
    "        date[1] = 1\n",
    "        date[0] += 1"
   ]
  },
  {
   "cell_type": "markdown",
   "metadata": {},
   "source": [
    "Скачиваем файлы с данными об уровне моря"
   ]
  },
  {
   "cell_type": "code",
   "execution_count": null,
   "metadata": {
    "scrolled": true
   },
   "outputs": [],
   "source": [
    "# функция для скачивания одного файла\n",
    "def fetch_url_sea(item):\n",
    "    cur = item[0]\n",
    "    cursave = item[1]\n",
    "    name = item[2]\n",
    "    login = item[3]\n",
    "    pwd = item[4]\n",
    "    with open(cursave, \"wb\") as f:\n",
    "        response = requests.get(cur, auth=(login, pwd), stream=True)\n",
    "        print(\"Downloading %s Status code %s\" % (name, response.status_code))\n",
    "        for chunk in response:\n",
    "            f.write(chunk)\n",
    "    print(\"%s is Done!\" % name)\n",
    "\n",
    "\n",
    "cdate = list() # текущая дата\n",
    "cdate.append(start[0])\n",
    "cdate.append(start[1])\n",
    "cdate.append(start[2])\n",
    "basename = \"ssh_grids_v1812_\"\n",
    "endname = \"12.nc\"\n",
    "url = \"https://podaac-tools.jpl.nasa.gov/drive/files/allData/merged_alt/L4/cdr_grid/\"\n",
    "savefile = downld_sea\n",
    "p = Pool(q_amnt) # создаем пул для распараллелирования процессов\n",
    "queries = list()\n",
    "while cdate[0] != end[0] or cdate[1] != end[1]:\n",
    "    if len(queries) == q_amnt:\n",
    "        p.imap(fetch_url_sea, queries)\n",
    "        queries = list()\n",
    "    name = str(cdate[0])\n",
    "    if len(str(cdate[1])) == 1:\n",
    "        name += '0'\n",
    "    name += str(cdate[1])\n",
    "    if len(str(cdate[2])) == 1:\n",
    "        name += '0'\n",
    "    name += str(cdate[2])\n",
    "    name = basename + name + endname\n",
    "    cur = url + name\n",
    "    cursave = savefile + name \n",
    "    login = # введите свой логин здесь, например \"user\"\n",
    "    pwd = # введите свой пароль здесь\n",
    "    response = requests.get(cur, auth=(login, pwd), stream=True)\n",
    "    if response.status_code != 200: # файла с таким названием нет\n",
    "        print(\"Downloading %s Status code ERROR %s\" % (name, response.status_code))\n",
    "        add_days(cdate, 1)\n",
    "    else:\n",
    "        #добавляем параметры [адрес, место сохранения, имя файла, логин, пароль] в очередь на запуск функции\n",
    "        itm = [cur, cursave, name, login, pwd] \n",
    "        queries.append(itm)\n",
    "        add_days(cdate, 5)\n",
    "        \n",
    "    \n",
    "p.imap(fetch_url_sea, queries)  \n",
    "p.close()\n",
    "p.join()\n",
    "print(\"Download finished!\")"
   ]
  },
  {
   "cell_type": "markdown",
   "metadata": {},
   "source": [
    "Скачиваем файлы с данными о скорости ветра. Функции построены так же, только для скачивания данных по ветру не требуется логин и пароль."
   ]
  },
  {
   "cell_type": "code",
   "execution_count": null,
   "metadata": {},
   "outputs": [],
   "source": [
    "# функция для скачивания одного файла\n",
    "def fetch_url_wind(item):\n",
    "    cur = item[0]\n",
    "    cursave = item[1]\n",
    "    name = item[2]\n",
    "    with open(cursave, \"wb\") as f:\n",
    "        response = requests.get(cur, stream=True)\n",
    "        if response.status_code != 200:\n",
    "            print(\"Downloading %s Status code ERROR %s\" % (name, response.status_code))\n",
    "        else:\n",
    "            print(\"Downloading %s Status code %s\" % (name, response.status_code))\n",
    "            for chunk in response:\n",
    "                f.write(chunk)\n",
    "    print(\"%s is Done!\" % name)\n",
    "\n",
    "cdate = list()\n",
    "cdate.append(start[0])\n",
    "cdate.append(start[1])\n",
    "cdate.append(start[2])\n",
    "basename = \"wnd10m.l.gdas.\"\n",
    "endname = \".grb2\"\n",
    "url = \"https://nomads.ncdc.noaa.gov/data/cfsr/\"\n",
    "savefile = downld_wind\n",
    "p = Pool(q_amnt)\n",
    "queries = list()\n",
    "while cdate[0] != end[0] or cdate[1] != end[1]:\n",
    "    if cdate[0] > 2011 or (cdate[0] == 2011 and cdate[1] > 3):\n",
    "        # начиная с этого момента файлы нового формата находятся в другом месте\n",
    "        url = \"https://nomads.ncdc.noaa.gov/modeldata/cfsv2_analysis_timeseries/\"\n",
    "        endname = \".grib2\"\n",
    "    name = str(cdate[0])\n",
    "    if len(str(cdate[1])) == 1:\n",
    "        name += '0'\n",
    "    name += str(cdate[1])\n",
    "    cur = url + str(cdate[0])+\"/\"+name +\"/\" + basename + name + endname\n",
    "    cursave = savefile + basename + name + endname\n",
    "    itm = [cur, cursave, basename + name + endname]\n",
    "    queries.append(itm)\n",
    "    cdate[1] += 1\n",
    "    if cdate[1] == 13:\n",
    "        cdate[1] = 1\n",
    "        cdate[0] += 1\n",
    "        \n",
    "p.imap(fetch_url_wind, queries)    \n",
    "p.close()\n",
    "p.join()\n",
    "print(\"Download finished!\")"
   ]
  },
  {
   "cell_type": "code",
   "execution_count": null,
   "metadata": {},
   "outputs": [],
   "source": []
  }
 ],
 "metadata": {
  "kernelspec": {
   "display_name": "Python [conda env:pynio_env]",
   "language": "python",
   "name": "conda-env-pynio_env-py"
  },
  "language_info": {
   "codemirror_mode": {
    "name": "ipython",
    "version": 3
   },
   "file_extension": ".py",
   "mimetype": "text/x-python",
   "name": "python",
   "nbconvert_exporter": "python",
   "pygments_lexer": "ipython3",
   "version": "3.8.1"
  }
 },
 "nbformat": 4,
 "nbformat_minor": 2
}
