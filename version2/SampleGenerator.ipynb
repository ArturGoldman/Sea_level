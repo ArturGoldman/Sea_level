{
 "cells": [
  {
   "cell_type": "code",
   "execution_count": null,
   "metadata": {},
   "outputs": [],
   "source": [
    "import os\n",
    "from calendar import monthrange\n",
    "import numpy as np\n",
    "import math\n",
    "import time\n",
    "import pandas as pd"
   ]
  },
  {
   "cell_type": "code",
   "execution_count": null,
   "metadata": {},
   "outputs": [],
   "source": [
    "sea_file = \"Storm and sea level/data/sea_cropped.csv\"\n",
    "wind_file = \"Storm and sea level/data/wind_cropped.csv\"\n",
    "wind_df = pd.read_csv(wind_file, index_col=0)\n",
    "sea_df = pd.read_csv(sea_file, index_col=0)"
   ]
  },
  {
   "cell_type": "markdown",
   "metadata": {},
   "source": [
    "Далее представлен основной код для генерирования выборки. Для заданной скорости ветра р итерируемся построчно (то есть находимся в одной точке на карте) и смотрим на изменение уровня моря со временем. Если выполняются нужные условия, то точка добавляется в выборку. В файле данные будут записаны в формате \"разность средних, количество штормовых дней, количество спокойных дней, координаты точки, дата, скорость ветра\""
   ]
  },
  {
   "cell_type": "code",
   "execution_count": null,
   "metadata": {
    "scrolled": true
   },
   "outputs": [],
   "source": [
    "p = 10\n",
    "windowlen = 11\n",
    "shp = wind_df.shape\n",
    "row_names = wind_df.index.values\n",
    "column_names = wind_df.columns.values\n",
    "\n",
    "for i in range(shp[0]):\n",
    "    coord_dots = list()\n",
    "    j = 0\n",
    "    while j < shp[1]:\n",
    "        while wind_df.iloc[i, j] < p and j + 10 < shp[1]:\n",
    "            j += 1\n",
    "        if j + 10 >= shp[1]:\n",
    "            j += 10\n",
    "            continue\n",
    "        dot_info = [0, 0, 0, 0]\n",
    "        for k in range(windowlen):\n",
    "            if pd.notna(sea_df.iloc[i, j]):\n",
    "                if wind_df.iloc[i, j] < p:\n",
    "                    dot_info[2] += sea_df.iloc[i, j]\n",
    "                    dot_info[3] += 1\n",
    "                else:\n",
    "                    dot_info[0] += sea_df.iloc[i, j]\n",
    "                    dot_info[1] += 1\n",
    "            j += 1\n",
    "        j -= 1\n",
    "        if dot_info[1] >= 4 and dot_info[3] >= 4:\n",
    "            diff_val = dot_info[0]/dot_info[1] - dot_info[2]/dot_info[3]\n",
    "            coord_dots.append([diff_val, dot_info[1], dot_info[3], row_names[i], column_names[j], p])\n",
    "        j += 1\n",
    "    f = open(\"output_bigger{}.txt\".format(p), \"a\")\n",
    "    for elem in coord_dots:\n",
    "        f.write(\"{}\\t{}\\t{}\\t{}\\t{}\\t{}\\n\".format(elem[0], elem[1], elem[2], elem[3], elem[4], elem[5]))\n",
    "    f.close()\n",
    "    if i % 1000 == 0:\n",
    "        print(i)"
   ]
  }
 ],
 "metadata": {
  "kernelspec": {
   "display_name": "Python [conda env:root] *",
   "language": "python",
   "name": "conda-root-py"
  },
  "language_info": {
   "codemirror_mode": {
    "name": "ipython",
    "version": 3
   },
   "file_extension": ".py",
   "mimetype": "text/x-python",
   "name": "python",
   "nbconvert_exporter": "python",
   "pygments_lexer": "ipython3",
   "version": "3.7.4"
  }
 },
 "nbformat": 4,
 "nbformat_minor": 2
}
